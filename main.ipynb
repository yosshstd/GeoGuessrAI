{
 "cells": [
  {
   "cell_type": "code",
   "execution_count": 1,
   "metadata": {},
   "outputs": [
    {
     "name": "stderr",
     "output_type": "stream",
     "text": [
      "Seed set to 0\n"
     ]
    }
   ],
   "source": [
    "import os\n",
    "import numpy as np\n",
    "import pandas as pd\n",
    "import matplotlib.pyplot as plt\n",
    "import seaborn as sns\n",
    "import torch\n",
    "import pytorch_lightning as pl\n",
    "from huggingface_hub import notebook_login\n",
    "from omegaconf import OmegaConf\n",
    "\n",
    "from src import lightning_model\n",
    "from src.data import get_dataloaders\n",
    "\n",
    "# Fix seed\n",
    "pl.seed_everything(0, workers=True)\n",
    "\n",
    "config = OmegaConf.load('config.yaml')"
   ]
  },
  {
   "cell_type": "code",
   "execution_count": 2,
   "metadata": {},
   "outputs": [
    {
     "name": "stderr",
     "output_type": "stream",
     "text": [
      "22395it [00:00, 426854.37it/s]\n"
     ]
    },
    {
     "name": "stdout",
     "output_type": "stream",
     "text": [
      "Loading formatted geocoded file...\n",
      "Dataset size: 22395\n"
     ]
    }
   ],
   "source": [
    "train_loader, val_loader = get_dataloaders(**config.data)"
   ]
  },
  {
   "cell_type": "code",
   "execution_count": 3,
   "metadata": {},
   "outputs": [],
   "source": [
    "model = lightning_model.BaseModel(config)"
   ]
  },
  {
   "cell_type": "code",
   "execution_count": 4,
   "metadata": {},
   "outputs": [
    {
     "name": "stderr",
     "output_type": "stream",
     "text": [
      "GPU available: True (cuda), used: True\n",
      "TPU available: False, using: 0 TPU cores\n",
      "IPU available: False, using: 0 IPUs\n",
      "HPU available: False, using: 0 HPUs\n",
      "You are using a CUDA device ('NVIDIA GeForce RTX 3090') that has Tensor Cores. To properly utilize them, you should set `torch.set_float32_matmul_precision('medium' | 'high')` which will trade-off precision for performance. For more details, read https://pytorch.org/docs/stable/generated/torch.set_float32_matmul_precision.html#torch.set_float32_matmul_precision\n",
      "LOCAL_RANK: 0 - CUDA_VISIBLE_DEVICES: [0]\n",
      "\n",
      "  | Name                | Type                          | Params\n",
      "----------------------------------------------------------------------\n",
      "0 | img_encoder         | CLIPVisionModelWithProjection | 38.6 M\n",
      "1 | location_identifier | Sequential                    | 789 K \n",
      "----------------------------------------------------------------------\n",
      "39.4 M    Trainable params\n",
      "0         Non-trainable params\n",
      "39.4 M    Total params\n",
      "157.507   Total estimated model params size (MB)\n"
     ]
    },
    {
     "name": "stdout",
     "output_type": "stream",
     "text": [
      "Sanity Checking DataLoader 0:   0%|          | 0/2 [00:00<?, ?it/s]"
     ]
    },
    {
     "name": "stderr",
     "output_type": "stream",
     "text": [
      "/home/yosshstd/anaconda3/envs/deeplearning/lib/python3.10/site-packages/torch/nn/modules/conv.py:456: UserWarning: Applied workaround for CuDNN issue, install nvrtc.so (Triggered internally at ../aten/src/ATen/native/cudnn/Conv_v8.cpp:80.)\n",
      "  return F.conv2d(input, weight, bias, self.stride,\n"
     ]
    },
    {
     "name": "stdout",
     "output_type": "stream",
     "text": [
      "                                                                           "
     ]
    },
    {
     "name": "stderr",
     "output_type": "stream",
     "text": [
      "/home/yosshstd/anaconda3/envs/deeplearning/lib/python3.10/site-packages/pytorch_lightning/utilities/data.py:77: Trying to infer the `batch_size` from an ambiguous collection. The batch size we found is 128. To avoid any miscalculations, use `self.log(..., batch_size=batch_size)`.\n"
     ]
    },
    {
     "name": "stdout",
     "output_type": "stream",
     "text": [
      "Epoch 0: 100%|██████████| 331/331 [05:05<00:00,  1.08it/s, v_num=19, train/loss_step=1.94e+3]"
     ]
    },
    {
     "name": "stderr",
     "output_type": "stream",
     "text": [
      "/home/yosshstd/anaconda3/envs/deeplearning/lib/python3.10/site-packages/pytorch_lightning/utilities/data.py:77: Trying to infer the `batch_size` from an ambiguous collection. The batch size we found is 81. To avoid any miscalculations, use `self.log(..., batch_size=batch_size)`.\n"
     ]
    },
    {
     "name": "stdout",
     "output_type": "stream",
     "text": [
      "Epoch 0: 100%|██████████| 331/331 [05:05<00:00,  1.08it/s, v_num=19, train/loss_step=757.0]  "
     ]
    },
    {
     "name": "stderr",
     "output_type": "stream",
     "text": [
      "/home/yosshstd/anaconda3/envs/deeplearning/lib/python3.10/site-packages/pytorch_lightning/utilities/data.py:77: Trying to infer the `batch_size` from an ambiguous collection. The batch size we found is 95. To avoid any miscalculations, use `self.log(..., batch_size=batch_size)`.\n"
     ]
    },
    {
     "name": "stdout",
     "output_type": "stream",
     "text": [
      "Epoch 49: 100%|██████████| 331/331 [05:26<00:00,  1.01it/s, v_num=19, train/loss_step=70.20, val/loss_step=734.0, val/loss_epoch=903.0, train/loss_epoch=90.70]       "
     ]
    },
    {
     "name": "stderr",
     "output_type": "stream",
     "text": [
      "`Trainer.fit` stopped: `max_epochs=50` reached.\n"
     ]
    },
    {
     "name": "stdout",
     "output_type": "stream",
     "text": [
      "Epoch 49: 100%|██████████| 331/331 [05:26<00:00,  1.01it/s, v_num=19, train/loss_step=70.20, val/loss_step=734.0, val/loss_epoch=903.0, train/loss_epoch=90.70]\n"
     ]
    }
   ],
   "source": [
    "trainer = pl.Trainer(max_epochs=config.train.epochs,\n",
    "                    enable_checkpointing=True,\n",
    "                    callbacks=[lightning_model.OverrideEpochStepCallback(),\n",
    "                                pl.callbacks.EarlyStopping(monitor='val/loss', patience=config.train.patience, verbose=False),\n",
    "                                pl.callbacks.ModelCheckpoint(monitor='val/loss', filename='best_model_{epoch:02d}', mode='min')\n",
    "                                ]\n",
    "                    )\n",
    "trainer.fit(model, train_loader, val_loader)"
   ]
  },
  {
   "cell_type": "code",
   "execution_count": 5,
   "metadata": {},
   "outputs": [
    {
     "data": {
      "text/plain": [
       "Reusing TensorBoard on port 6006 (pid 12332), started 3 days, 4:10:56 ago. (Use '!kill 12332' to kill it.)"
      ]
     },
     "metadata": {},
     "output_type": "display_data"
    },
    {
     "data": {
      "text/html": [
       "\n",
       "      <iframe id=\"tensorboard-frame-629f6fbed82c07cd\" width=\"100%\" height=\"800\" frameborder=\"0\">\n",
       "      </iframe>\n",
       "      <script>\n",
       "        (function() {\n",
       "          const frame = document.getElementById(\"tensorboard-frame-629f6fbed82c07cd\");\n",
       "          const url = new URL(\"http://localhost\");\n",
       "          const port = 6006;\n",
       "          if (port) {\n",
       "            url.port = port;\n",
       "          }\n",
       "          frame.src = url;\n",
       "        })();\n",
       "      </script>\n",
       "    "
      ],
      "text/plain": [
       "<IPython.core.display.HTML object>"
      ]
     },
     "metadata": {},
     "output_type": "display_data"
    }
   ],
   "source": [
    "%load_ext tensorboard\n",
    "%tensorboard  --logdir lightning_logs/"
   ]
  },
  {
   "cell_type": "code",
   "execution_count": 54,
   "metadata": {},
   "outputs": [],
   "source": [
    "# # load best model\n",
    "# model = lightning_model.BaseModel.load_from_checkpoint(trainer.checkpoint_callback.best_model_path, config=config)"
   ]
  },
  {
   "cell_type": "code",
   "execution_count": 111,
   "metadata": {},
   "outputs": [],
   "source": [
    "# # Save model\n",
    "# os.makedirs('models', exist_ok=True)\n",
    "# torch.save(model.state_dict(), f'models/{config.data.model_name.split(\"/\")[-1]}_location_identifier_best.pth')"
   ]
  },
  {
   "cell_type": "code",
   "execution_count": 4,
   "metadata": {},
   "outputs": [],
   "source": [
    "image, true_coord, txt_country_embeds, country_name = next(iter(val_loader))"
   ]
  },
  {
   "cell_type": "code",
   "execution_count": 12,
   "metadata": {},
   "outputs": [
    {
     "name": "stdout",
     "output_type": "stream",
     "text": [
      "True coord: tensor([-12.0013, -77.1297])\n",
      "Pred coord: tensor([-13.1685, -72.3047])\n",
      "True country: A street view photo in Callao, Callao, Peru.\n",
      "shape: torch.Size([128, 512])\n"
     ]
    }
   ],
   "source": [
    "id = np.random.randint(0, 128)\n",
    "\n",
    "# Forward pass\n",
    "model.eval()\n",
    "with torch.no_grad():\n",
    "    pred_coord = model(image.to(model.device))\n",
    "\n",
    "print(f'True coord: {true_coord[id]}')\n",
    "print(f'Pred coord: {pred_coord[id]}')\n",
    "print(f'True country: {country_name[id]}')\n",
    "\n",
    "print(f'shape: {txt_country_embeds.shape}')"
   ]
  },
  {
   "cell_type": "code",
   "execution_count": 9,
   "metadata": {},
   "outputs": [],
   "source": [
    "import math\n",
    "\n",
    "def haversine(lat1, lon1, lat2, lon2):\n",
    "    \"\"\"\n",
    "    2点間の距離を計算する関数(haversine公式)\n",
    "    引数:\n",
    "        lat1, lon1: 点1の緯度と経度(度)\n",
    "        lat2, lon2: 点2の緯度と経度(度)\n",
    "    返り値:\n",
    "        2点間の距離(km)\n",
    "    \"\"\"\n",
    "    \n",
    "    # 度からラジアンに変換\n",
    "    lat1 = lat1 * math.pi / 180\n",
    "    lon1 = lon1 * math.pi / 180\n",
    "    lat2 = lat2 * math.pi / 180 \n",
    "    lon2 = lon2 * math.pi / 180\n",
    "\n",
    "    # ハベルサイン公式\n",
    "    dlat = lat2 - lat1\n",
    "    dlon = lon2 - lon1\n",
    "    a = math.sin(dlat/2)**2 + math.cos(lat1) * math.cos(lat2) * math.sin(dlon/2)**2\n",
    "    c = 2 * math.atan2(math.sqrt(a), math.sqrt(1-a))\n",
    "    \n",
    "    # 地球の半径を6371km として距離を計算\n",
    "    distance = 6371 * c\n",
    "    \n",
    "    return distance\n",
    "\n"
   ]
  },
  {
   "cell_type": "code",
   "execution_count": 117,
   "metadata": {},
   "outputs": [
    {
     "name": "stdout",
     "output_type": "stream",
     "text": [
      "Distance: 6460.40 km\n"
     ]
    }
   ],
   "source": [
    "# 入力値\n",
    "true_lat, true_lon = true_coord[id].cpu().numpy()\n",
    "pred_lat, pred_lon = pred_coord[id].cpu().numpy()\n",
    "\n",
    "# 距離を計算\n",
    "distance = haversine(true_lat, true_lon, pred_lat, pred_lon)\n",
    "print(f\"Distance: {distance:.2f} km\")"
   ]
  },
  {
   "cell_type": "code",
   "execution_count": 168,
   "metadata": {},
   "outputs": [
    {
     "data": {
      "application/vnd.jupyter.widget-view+json": {
       "model_id": "87bbb1504459477588d42d18fdcd022e",
       "version_major": 2,
       "version_minor": 0
      },
      "text/plain": [
       "VBox(children=(HTML(value='<center> <img\\nsrc=https://huggingface.co/front/assets/huggingface_logo-noborder.sv…"
      ]
     },
     "metadata": {},
     "output_type": "display_data"
    }
   ],
   "source": [
    "# from huggingface_hub import HfApi\n",
    "# from huggingface_hub import notebook_login\n",
    "\n",
    "# notebook_login()\n",
    "# # Authenticate with your Hugging Face Hub token\n",
    "# api = HfApi()\n",
    "# username = api.whoami()[\"name\"]\n",
    "\n",
    "# model_id = \"GeoGuessrAI\"\n",
    "# # Create a repository on the Hugging Face Hub\n",
    "# repo_url = api.create_repo(repo_id=model_id, exist_ok=True)"
   ]
  },
  {
   "cell_type": "code",
   "execution_count": 8,
   "metadata": {},
   "outputs": [
    {
     "data": {
      "text/plain": [
       "<All keys matched successfully>"
      ]
     },
     "execution_count": 8,
     "metadata": {},
     "output_type": "execute_result"
    }
   ],
   "source": [
    "# # load model.pth from hugging face\n",
    "# model_path = 'https://huggingface.co/yosshstd/GeoGuessrAI/resolve/main/model.pth'\n",
    "\n",
    "# model = lightning_model.BaseModel(config)\n",
    "\n",
    "# # Hugging Face URL から状態辞書をロードします。(.cacheに保存されます。)\n",
    "# state_dict = torch.hub.load_state_dict_from_url(model_path, map_location=torch.device('cuda'))\n",
    "\n",
    "# # ロードした状態辞書をモデルに適用します。\n",
    "# model.load_state_dict(state_dict)"
   ]
  }
 ],
 "metadata": {
  "kernelspec": {
   "display_name": "deeplearning",
   "language": "python",
   "name": "python3"
  },
  "language_info": {
   "codemirror_mode": {
    "name": "ipython",
    "version": 3
   },
   "file_extension": ".py",
   "mimetype": "text/x-python",
   "name": "python",
   "nbconvert_exporter": "python",
   "pygments_lexer": "ipython3",
   "version": "3.10.13"
  }
 },
 "nbformat": 4,
 "nbformat_minor": 2
}
